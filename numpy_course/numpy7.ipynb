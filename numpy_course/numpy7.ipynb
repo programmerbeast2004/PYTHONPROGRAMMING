{
 "cells": [
  {
   "cell_type": "code",
   "execution_count": 12,
   "metadata": {},
   "outputs": [
    {
     "name": "stdout",
     "output_type": "stream",
     "text": [
      "[5 7 9]\n",
      "[-3 -3 -3]\n",
      "[ 4 10 18]\n",
      "[0.25 0.4  0.5 ]\n",
      "[0 0 0]\n",
      "[1 2 3]\n",
      "[-1 -2 -3]\n",
      "[0 1 0]\n"
     ]
    }
   ],
   "source": [
    "import numpy as np\n",
    "a=np.array([1,2,3])\n",
    "b=np.array([4,5,6])\n",
    "print(np.add(a,b))\n",
    "print(np.subtract(a,b))\n",
    "print(np.multiply(a,b))\n",
    "print(np.divide(a,b))\n",
    "print(np.floor_divide(a,b))\n",
    "print(np.mod(a,b))\n",
    "print(np.negative(a))\n",
    "print(np.remainder(b,a))"
   ]
  },
  {
   "cell_type": "code",
   "execution_count": 31,
   "metadata": {},
   "outputs": [
    {
     "name": "stdout",
     "output_type": "stream",
     "text": [
      "2.0\n",
      "2.0\n",
      "0.6666666666666666\n",
      "0.816496580927726\n",
      "1\n",
      "3\n",
      "6\n",
      "6\n",
      "0\n",
      "2\n",
      "3\n",
      "[1 2 3]\n",
      "[0 1 1 1]\n",
      "[1 3 6]\n",
      "[1 2 6]\n"
     ]
    }
   ],
   "source": [
    "a=np.array([1,2,3])\n",
    "print(np.mean(a))\n",
    "print(np.median(a))\n",
    "print(np.var(a))\n",
    "print(np.std(a))\n",
    "print(np.min(a))\n",
    "print(np.max(a))\n",
    "print(np.sum(a))\n",
    "print(np.prod(a))\n",
    "print(np.argmin(a))\n",
    "print(np.argmax(a))\n",
    "print(np.count_nonzero(a))\n",
    "print(np.unique(a))\n",
    "print(np.bincount(a))\n",
    "print(np.cumsum(a))\n",
    "print(np.cumprod(a))"
   ]
  }
 ],
 "metadata": {
  "kernelspec": {
   "display_name": "Python 3",
   "language": "python",
   "name": "python3"
  },
  "language_info": {
   "codemirror_mode": {
    "name": "ipython",
    "version": 3
   },
   "file_extension": ".py",
   "mimetype": "text/x-python",
   "name": "python",
   "nbconvert_exporter": "python",
   "pygments_lexer": "ipython3",
   "version": "3.11.3"
  }
 },
 "nbformat": 4,
 "nbformat_minor": 2
}
