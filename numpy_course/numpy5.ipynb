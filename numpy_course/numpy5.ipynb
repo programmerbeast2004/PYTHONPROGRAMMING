{
 "cells": [
  {
   "cell_type": "code",
   "execution_count": 2,
   "metadata": {},
   "outputs": [
    {
     "name": "stdout",
     "output_type": "stream",
     "text": [
      "[0 0 2]\n"
     ]
    }
   ],
   "source": [
    "#BITWISE AND \n",
    "import numpy as np\n",
    "a=np.array([1,2,3],dtype=np.uint8)\n",
    "b=np.array([4,5,6],dtype=np.uint8)\n",
    "bitwise_and=np.bitwise_and(a,b)\n",
    "print(bitwise_and)"
   ]
  },
  {
   "cell_type": "code",
   "execution_count": 3,
   "metadata": {},
   "outputs": [
    {
     "name": "stdout",
     "output_type": "stream",
     "text": [
      "[5 7 7]\n"
     ]
    }
   ],
   "source": [
    "#BITWISE OR\n",
    "import numpy as np\n",
    "a=np.array([1,2,3],dtype=np.uint8)\n",
    "b=np.array([4,5,6],dtype=np.uint8)\n",
    "bitwise_or=np.bitwise_or(a,b)\n",
    "print(bitwise_or)"
   ]
  },
  {
   "cell_type": "code",
   "execution_count": 10,
   "metadata": {},
   "outputs": [
    {
     "name": "stdout",
     "output_type": "stream",
     "text": [
      "[254 253 252]\n"
     ]
    }
   ],
   "source": [
    "#BITWISE NOT\n",
    "import numpy as np\n",
    "a=np.array([1,2,3],dtype=np.uint8)\n",
    "b=np.array([4,5,6],dtype=np.uint8)\n",
    "bitwise_not=np.bitwise_not(a)\n",
    "print(bitwise_not)"
   ]
  },
  {
   "cell_type": "code",
   "execution_count": 14,
   "metadata": {},
   "outputs": [
    {
     "name": "stdout",
     "output_type": "stream",
     "text": [
      "[ 4  8 12]\n"
     ]
    }
   ],
   "source": [
    "#BITWISE LEFT SHIFT\n",
    "import numpy as np\n",
    "a=np.array([1,2,3],dtype=np.uint8)\n",
    "b=np.array([4,5,6],dtype=np.uint8)\n",
    "bitwise_left=np.left_shift(a,2)\n",
    "print(bitwise_left)"
   ]
  },
  {
   "cell_type": "code",
   "execution_count": 17,
   "metadata": {},
   "outputs": [
    {
     "name": "stdout",
     "output_type": "stream",
     "text": [
      "[0 1 1]\n"
     ]
    }
   ],
   "source": [
    "#BITWISE RIGHT SHIFT\n",
    "import numpy as np\n",
    "a=np.array([1,2,3],dtype=np.uint8)\n",
    "b=np.array([4,5,6],dtype=np.uint8)\n",
    "bitwise_right=np.right_shift(a,1)\n",
    "print(bitwise_right)"
   ]
  }
 ],
 "metadata": {
  "kernelspec": {
   "display_name": "Python 3",
   "language": "python",
   "name": "python3"
  },
  "language_info": {
   "codemirror_mode": {
    "name": "ipython",
    "version": 3
   },
   "file_extension": ".py",
   "mimetype": "text/x-python",
   "name": "python",
   "nbconvert_exporter": "python",
   "pygments_lexer": "ipython3",
   "version": "3.11.3"
  }
 },
 "nbformat": 4,
 "nbformat_minor": 2
}
