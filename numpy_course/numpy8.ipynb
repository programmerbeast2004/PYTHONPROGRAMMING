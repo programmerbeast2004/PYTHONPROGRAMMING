{
 "cells": [
  {
   "cell_type": "code",
   "execution_count": 2,
   "metadata": {},
   "outputs": [
    {
     "name": "stdout",
     "output_type": "stream",
     "text": [
      "[1 0 3 2]\n",
      "4\n"
     ]
    }
   ],
   "source": [
    "#sort\n",
    "import numpy as np\n",
    "ar=np.array(\n",
    "    [1,0,5,3]\n",
    ")\n",
    "#print(np.sort(ar,axis=1))\n",
    "#argsort:result is an array of indices that can be used to reorderthe original array\n",
    "print(np.argsort(ar))\n",
    "#searchsorted:find indices where elements should be inserted to maintain orderin sorted array\n",
    "print(np.searchsorted(ar,7))\n",
    "\n"
   ]
  },
  {
   "cell_type": "code",
   "execution_count": 3,
   "metadata": {},
   "outputs": [
    {
     "name": "stdout",
     "output_type": "stream",
     "text": [
      "[0 1 3 5]\n",
      "[1 0 3 2]\n"
     ]
    }
   ],
   "source": [
    "#partition\n",
    "ar=np.array([1,0,5,3])\n",
    "partitioned_ar=np.partition(ar,3)\n",
    "print(partitioned_ar)\n",
    "argpartitioned_ar=np.argpartition(ar,3)\n",
    "print(argpartitioned_ar)\n"
   ]
  },
  {
   "cell_type": "code",
   "execution_count": 5,
   "metadata": {},
   "outputs": [
    {
     "name": "stdout",
     "output_type": "stream",
     "text": [
      "(array([2, 3, 4], dtype=int64),)\n"
     ]
    }
   ],
   "source": [
    "#where:this function returns the indices of elements in a array that satisfy a given condition\n",
    "arr=np.array([1,2,3,4,5])\n",
    "print(np.where(arr>2))"
   ]
  },
  {
   "cell_type": "code",
   "execution_count": 6,
   "metadata": {},
   "outputs": [
    {
     "name": "stdout",
     "output_type": "stream",
     "text": [
      "[[2]\n",
      " [3]\n",
      " [4]]\n"
     ]
    }
   ],
   "source": [
    "#argwhere:this function returns the indices of elements in an array that satisfy a given condition\n",
    "arr=np.array([1,2,3,4,5])\n",
    "print(np.argwhere(arr>2))"
   ]
  },
  {
   "cell_type": "code",
   "execution_count": 7,
   "metadata": {},
   "outputs": [
    {
     "name": "stdout",
     "output_type": "stream",
     "text": [
      "(array([0, 2, 4], dtype=int64),)\n"
     ]
    }
   ],
   "source": [
    "#nonzero:this function returns the indices of non zero elements in an array\n",
    "arr=np.array([1,0,2,0,3,0])\n",
    "print(np.nonzero(arr))"
   ]
  },
  {
   "cell_type": "code",
   "execution_count": 9,
   "metadata": {},
   "outputs": [
    {
     "name": "stdout",
     "output_type": "stream",
     "text": [
      "[1 2]\n"
     ]
    }
   ],
   "source": [
    "#extract:this function returns the elements of an array that satisfy a given condition\n",
    "ar=np.array([1,2,3,4,5,6,7,8,9])\n",
    "print(np.extract(ar<3,ar))"
   ]
  },
  {
   "cell_type": "code",
   "execution_count": 10,
   "metadata": {},
   "outputs": [
    {
     "name": "stdout",
     "output_type": "stream",
     "text": [
      "[7 8 9]\n"
     ]
    }
   ],
   "source": [
    "#filtration\n",
    "ar=np.array([1,2,3,4,5,6,7,8,9])\n",
    "print(ar[ar>6])"
   ]
  },
  {
   "cell_type": "code",
   "execution_count": 13,
   "metadata": {},
   "outputs": [
    {
     "name": "stdout",
     "output_type": "stream",
     "text": [
      "[7 7 7 4 5 6 7 8 9]\n"
     ]
    }
   ],
   "source": [
    "#where\n",
    "ar=np.array([1,2,3,4,5,6,7,8,9])\n",
    "print(np.where(ar>3,ar,7))"
   ]
  },
  {
   "cell_type": "code",
   "execution_count": 14,
   "metadata": {},
   "outputs": [
    {
     "name": "stdout",
     "output_type": "stream",
     "text": [
      "[1 2]\n"
     ]
    }
   ],
   "source": [
    "#compress:this function filters an array based on boolean mask\n",
    "ar=np.array([1,2,3,4,5,6,7,8,9])\n",
    "print(np.compress(ar<3,ar))\n",
    "\n"
   ]
  }
 ],
 "metadata": {
  "kernelspec": {
   "display_name": "Python 3",
   "language": "python",
   "name": "python3"
  },
  "language_info": {
   "codemirror_mode": {
    "name": "ipython",
    "version": 3
   },
   "file_extension": ".py",
   "mimetype": "text/x-python",
   "name": "python",
   "nbconvert_exporter": "python",
   "pygments_lexer": "ipython3",
   "version": "3.11.3"
  }
 },
 "nbformat": 4,
 "nbformat_minor": 2
}
