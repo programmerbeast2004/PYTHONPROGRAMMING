{
 "cells": [
  {
   "cell_type": "code",
   "execution_count": 71,
   "metadata": {},
   "outputs": [
    {
     "name": "stdout",
     "output_type": "stream",
     "text": [
      "(6,)\n",
      "1\n",
      "6\n",
      "int32\n",
      "4\n",
      "<memory at 0x00000281578699C0>\n",
      "(4,)\n",
      "  C_CONTIGUOUS : True\n",
      "  F_CONTIGUOUS : True\n",
      "  OWNDATA : True\n",
      "  WRITEABLE : True\n",
      "  ALIGNED : True\n",
      "  WRITEBACKIFCOPY : False\n",
      "\n"
     ]
    }
   ],
   "source": [
    "import numpy as np\n",
    "ar=np.array([1,3,4,5,6,7])\n",
    "print(ar.shape)\n",
    "print(ar.ndim)\n",
    "print(ar.size)\n",
    "print(ar.dtype)\n",
    "print(ar.itemsize)\n",
    "print(ar.data)\n",
    "print(ar.strides)\n",
    "print(ar.flags)"
   ]
  },
  {
   "cell_type": "code",
   "execution_count": 72,
   "metadata": {},
   "outputs": [
    {
     "name": "stdout",
     "output_type": "stream",
     "text": [
      "[1 3 4 5]\n",
      "[[1 3 4 5]]\n",
      "13\n",
      "3.25\n",
      "1\n",
      "5\n",
      "3\n",
      "0\n"
     ]
    }
   ],
   "source": [
    "#ndarray attributes\n",
    "import numpy as np\n",
    "ar=np.array([1,3,4,5])\n",
    "print(ar)\n",
    "print(ar.reshape(1,4))\n",
    "print(ar.sum())\n",
    "print(ar.mean())\n",
    "print(ar.min())\n",
    "print(ar.max())\n",
    "print(ar.argmax())\n",
    "print(ar.argmin())"
   ]
  },
  {
   "cell_type": "code",
   "execution_count": null,
   "metadata": {},
   "outputs": [],
   "source": []
  },
  {
   "cell_type": "code",
   "execution_count": 73,
   "metadata": {},
   "outputs": [
    {
     "name": "stdout",
     "output_type": "stream",
     "text": [
      "[[0. 0. 0. 0.]\n",
      " [0. 0. 0. 0.]\n",
      " [0. 0. 0. 0.]\n",
      " [0. 0. 0. 0.]]\n"
     ]
    }
   ],
   "source": [
    "#array creation in different ways\n",
    "#numpy.empty(shape,dtype=float,order='C')\n",
    "a=np.empty((4,4))\n",
    "print(a)"
   ]
  },
  {
   "cell_type": "code",
   "execution_count": 74,
   "metadata": {},
   "outputs": [
    {
     "name": "stdout",
     "output_type": "stream",
     "text": [
      "[[8 8 8 8]\n",
      " [8 8 8 8]\n",
      " [8 8 8 8]\n",
      " [8 8 8 8]]\n"
     ]
    }
   ],
   "source": [
    "#numpy.ones(shape,dtype=float,order='C')\n",
    "a2=np.ones((4,4),dtype=int)\n",
    "a2.fill(8)\n",
    "print(a2)"
   ]
  },
  {
   "cell_type": "code",
   "execution_count": 75,
   "metadata": {},
   "outputs": [
    {
     "name": "stdout",
     "output_type": "stream",
     "text": [
      "[[0 0 0 0]\n",
      " [0 0 0 0]\n",
      " [0 0 0 0]\n",
      " [0 0 0 0]]\n"
     ]
    }
   ],
   "source": [
    "#numpy.zeros(shape,dtype=float,order='C')\n",
    "a1=np.zeros((4,4),dtype=int)\n",
    "print(a1)"
   ]
  },
  {
   "cell_type": "code",
   "execution_count": 76,
   "metadata": {},
   "outputs": [
    {
     "name": "stdout",
     "output_type": "stream",
     "text": [
      "<class 'numpy.ndarray'>\n",
      "[1 2 3 4 5]\n"
     ]
    }
   ],
   "source": [
    "#asarray\n",
    "data=(1,2,3,4,5)\n",
    "arr=np.asarray(data)\n",
    "print(type(arr))\n",
    "print(arr)"
   ]
  },
  {
   "cell_type": "code",
   "execution_count": 77,
   "metadata": {},
   "outputs": [
    {
     "name": "stdout",
     "output_type": "stream",
     "text": [
      "[[ 4  7  9]\n",
      " [ 2  5  7]\n",
      " [ 5  8 10]\n",
      " [ 7 10 12]]\n",
      "[[11 13 14]]\n"
     ]
    }
   ],
   "source": [
    "#Broadcsting\n",
    "a1=np.array([\n",
    "   [1,3,4]\n",
    "])\n",
    "a2=np.array([\n",
    "    [3,4,5],\n",
    "    [1,2,3],\n",
    "    [4,5,6],\n",
    "    [6,7,8]\n",
    "])\n",
    "print(a1+a2)\n",
    "print(a1+10)"
   ]
  },
  {
   "cell_type": "code",
   "execution_count": 78,
   "metadata": {},
   "outputs": [],
   "source": [
    "#frombuffer\n",
    "#numpy.frombuffer(buffer_object,dtype=float,count=-1,offset=0)\n",
    "#buffer:the buffer object,you want to convert into array\n",
    "#dtype:resulted data type of an array\n",
    "#count:how much item you want to fetch from buffer object?if set to-1,it will read all items\n",
    "#offset:buffer object's starting position default is 0 index"
   ]
  },
  {
   "cell_type": "code",
   "execution_count": 79,
   "metadata": {},
   "outputs": [
    {
     "name": "stdout",
     "output_type": "stream",
     "text": [
      "[ 1 48  1 49  5 54  6 55]\n"
     ]
    }
   ],
   "source": [
    "import numpy as np\n",
    "buffer_obj=b'\\x010\\x011\\x056\\x067'\n",
    "ar=np.frombuffer(buffer_obj,dtype=np.uint8)\n",
    "print(ar)"
   ]
  },
  {
   "cell_type": "code",
   "execution_count": 80,
   "metadata": {},
   "outputs": [
    {
     "name": "stdout",
     "output_type": "stream",
     "text": [
      "[1 2 3 4 5]\n",
      "<class 'numpy.ndarray'>\n"
     ]
    }
   ],
   "source": [
    "#fromiter\n",
    "#numpy.fromiter(iterable_object,dtype,count=-1)\n",
    "lst=[1,2,3,4,5]\n",
    "ar=np.fromiter(lst,dtype=int)\n",
    "print(ar)\n",
    "print(type(ar))"
   ]
  },
  {
   "cell_type": "code",
   "execution_count": 81,
   "metadata": {},
   "outputs": [
    {
     "name": "stdout",
     "output_type": "stream",
     "text": [
      "[0 1 2 3 4 5 6 7 8 9]\n"
     ]
    }
   ],
   "source": [
    "#np.arrange(start,stop,step,dtype=None)\n",
    "import numpy as np\n",
    "ar=np.arange(0,10)\n",
    "print(ar)"
   ]
  },
  {
   "cell_type": "code",
   "execution_count": 82,
   "metadata": {},
   "outputs": [
    {
     "name": "stdout",
     "output_type": "stream",
     "text": [
      "[0.         0.11111111 0.22222222 0.33333333 0.44444444 0.55555556\n",
      " 0.66666667 0.77777778 0.88888889 1.        ]\n"
     ]
    }
   ],
   "source": [
    "#array from numerical ranges\n",
    "values=np.linspace(0,1,num=10)\n",
    "print(values)"
   ]
  },
  {
   "cell_type": "code",
   "execution_count": 84,
   "metadata": {},
   "outputs": [
    {
     "name": "stdout",
     "output_type": "stream",
     "text": [
      "[1.e-05 1.e+00 1.e+05 1.e+10]\n"
     ]
    }
   ],
   "source": [
    "#array from numerical ranges\n",
    "values=np.logspace(-5,10,num=4)\n",
    "print(values)"
   ]
  },
  {
   "cell_type": "code",
   "execution_count": null,
   "metadata": {},
   "outputs": [],
   "source": []
  }
 ],
 "metadata": {
  "kernelspec": {
   "display_name": "Python 3",
   "language": "python",
   "name": "python3"
  },
  "language_info": {
   "codemirror_mode": {
    "name": "ipython",
    "version": 3
   },
   "file_extension": ".py",
   "mimetype": "text/x-python",
   "name": "python",
   "nbconvert_exporter": "python",
   "pygments_lexer": "ipython3",
   "version": "3.11.3"
  }
 },
 "nbformat": 4,
 "nbformat_minor": 2
}
