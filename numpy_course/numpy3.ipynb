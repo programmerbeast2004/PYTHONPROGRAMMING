{
 "cells": [
  {
   "cell_type": "code",
   "execution_count": 10,
   "metadata": {},
   "outputs": [
    {
     "name": "stdout",
     "output_type": "stream",
     "text": [
      "1\n",
      "2\n",
      "3\n",
      "4\n"
     ]
    }
   ],
   "source": [
    "#array iteration\n",
    "import numpy as np\n",
    "ar=np.array(\n",
    "    [\n",
    "        [1,2],\n",
    "        [3,4]\n",
    "    ]\n",
    ")\n",
    "for i in ar:\n",
    "    for x in i:\n",
    "        print(x)"
   ]
  },
  {
   "cell_type": "code",
   "execution_count": 11,
   "metadata": {},
   "outputs": [
    {
     "name": "stdout",
     "output_type": "stream",
     "text": [
      "1\n",
      "3\n",
      "2\n",
      "4\n"
     ]
    }
   ],
   "source": [
    "#nditer\n",
    "arr=np.array([[1,2],[3,4]])\n",
    "for i in np.nditer(arr,order='F'):\n",
    "    print(i)"
   ]
  },
  {
   "cell_type": "code",
   "execution_count": 12,
   "metadata": {},
   "outputs": [
    {
     "name": "stdout",
     "output_type": "stream",
     "text": [
      "(0, 0) 1\n",
      "(0, 1) 2\n",
      "(1, 0) 3\n",
      "(1, 1) 4\n"
     ]
    }
   ],
   "source": [
    "#ndenumerate\n",
    "arr=np.array([[1,2],[3,4]])\n",
    "for index,element in np.ndenumerate(arr):\n",
    "    print(index,element)"
   ]
  },
  {
   "cell_type": "code",
   "execution_count": 16,
   "metadata": {},
   "outputs": [
    {
     "name": "stdout",
     "output_type": "stream",
     "text": [
      "[10 10 10 10 10]\n"
     ]
    }
   ],
   "source": [
    "arr=np.zeros(5,dtype=int)\n",
    "arr.fill(10)\n",
    "print(arr)"
   ]
  },
  {
   "cell_type": "code",
   "execution_count": 17,
   "metadata": {},
   "outputs": [
    {
     "name": "stdout",
     "output_type": "stream",
     "text": [
      "BEFORE\n",
      "[1 2 3 4 5]\n",
      "AFTER\n",
      "[30 40 50 60  5]\n"
     ]
    }
   ],
   "source": [
    "#indexing and slicing\n",
    "ar=np.array([1,2,3,4,5])\n",
    "print(\"BEFORE\")\n",
    "print(ar)\n",
    "print(\"AFTER\")\n",
    "ar[0:4]=[30,40,50,60]\n",
    "print(ar)"
   ]
  },
  {
   "cell_type": "code",
   "execution_count": 19,
   "metadata": {},
   "outputs": [
    {
     "name": "stdout",
     "output_type": "stream",
     "text": [
      "[29  2  3 10 40  5]\n"
     ]
    }
   ],
   "source": [
    "#put method\n",
    "ar=np.array([1,2,3,4,54,5])\n",
    "np.put(ar,[3,4,0],[10,40,29])\n",
    "print(ar)"
   ]
  },
  {
   "cell_type": "code",
   "execution_count": 23,
   "metadata": {},
   "outputs": [
    {
     "name": "stdout",
     "output_type": "stream",
     "text": [
      "[ 8  2  3  4 54  5]\n"
     ]
    }
   ],
   "source": [
    "#boolean indexing\n",
    "ar=np.array([1,2,3,4,54,5])\n",
    "ar[ar==1]=8\n",
    "print(ar)"
   ]
  }
 ],
 "metadata": {
  "kernelspec": {
   "display_name": "Python 3",
   "language": "python",
   "name": "python3"
  },
  "language_info": {
   "codemirror_mode": {
    "name": "ipython",
    "version": 3
   },
   "file_extension": ".py",
   "mimetype": "text/x-python",
   "name": "python",
   "nbconvert_exporter": "python",
   "pygments_lexer": "ipython3",
   "version": "3.11.3"
  }
 },
 "nbformat": 4,
 "nbformat_minor": 2
}
