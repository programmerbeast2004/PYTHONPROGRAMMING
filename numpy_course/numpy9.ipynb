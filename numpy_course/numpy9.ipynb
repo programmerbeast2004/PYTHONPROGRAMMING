{
 "cells": [
  {
   "cell_type": "code",
   "execution_count": 1,
   "metadata": {},
   "outputs": [
    {
     "name": "stdout",
     "output_type": "stream",
     "text": [
      "[4 5 3 7]\n"
     ]
    }
   ],
   "source": [
    "#view:a view of an array can be created using slicing method\n",
    "import numpy as np\n",
    "ar=np.array([4,5,3,7,8])\n",
    "print(ar[:4]) \n"
   ]
  },
  {
   "cell_type": "code",
   "execution_count": 2,
   "metadata": {},
   "outputs": [
    {
     "name": "stdout",
     "output_type": "stream",
     "text": [
      "[[ 1 99]\n",
      " [ 2  5]\n",
      " [ 3  6]]\n"
     ]
    }
   ],
   "source": [
    "#create view\n",
    "ar=np.array([[1,2,3],\n",
    "             [4,5,6]])\n",
    "view=ar.T\n",
    "view[0,1]=99\n",
    "print(view)"
   ]
  },
  {
   "cell_type": "code",
   "execution_count": 3,
   "metadata": {},
   "outputs": [
    {
     "name": "stdout",
     "output_type": "stream",
     "text": [
      "[[1 2 3]\n",
      " [4 5 6]]\n"
     ]
    }
   ],
   "source": [
    "#reshaping(view):\n",
    "arr=np.array([1,2,3,4,5,6])\n",
    "#Reshaping the 1D array to a 2D array to create a view\n",
    "print(arr.reshape(2,3))"
   ]
  },
  {
   "cell_type": "code",
   "execution_count": 4,
   "metadata": {},
   "outputs": [
    {
     "name": "stdout",
     "output_type": "stream",
     "text": [
      "[3 2 1 4 8]\n",
      "[90  2  1  4  8]\n"
     ]
    }
   ],
   "source": [
    "#copy:it is used to create a new array object from an existing array having same values,but stored at a different memory location\n",
    "ar1=np.array([3,2,1,4,8])\n",
    "ar2=ar1.copy()\n",
    "ar2[0]=90\n",
    "print(ar1)\n",
    "print(ar2)"
   ]
  },
  {
   "cell_type": "code",
   "execution_count": 7,
   "metadata": {},
   "outputs": [
    {
     "name": "stdout",
     "output_type": "stream",
     "text": [
      "[99 40]\n",
      "[10 20 30 40 50]\n"
     ]
    }
   ],
   "source": [
    "arr=np.array([10,20,30,40,50])\n",
    "#using fancy indexing to create a copy based on the index array\n",
    "indices=[1,3]\n",
    "cpy=arr[indices]\n",
    "cpy[0]=99\n",
    "print(cpy)\n",
    "print(arr)"
   ]
  }
 ],
 "metadata": {
  "kernelspec": {
   "display_name": "Python 3",
   "language": "python",
   "name": "python3"
  },
  "language_info": {
   "codemirror_mode": {
    "name": "ipython",
    "version": 3
   },
   "file_extension": ".py",
   "mimetype": "text/x-python",
   "name": "python",
   "nbconvert_exporter": "python",
   "pygments_lexer": "ipython3",
   "version": "3.11.3"
  }
 },
 "nbformat": 4,
 "nbformat_minor": 2
}
