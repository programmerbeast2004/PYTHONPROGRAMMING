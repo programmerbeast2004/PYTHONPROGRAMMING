{
 "cells": [
  {
   "cell_type": "code",
   "execution_count": 2,
   "metadata": {},
   "outputs": [
    {
     "name": "stdout",
     "output_type": "stream",
     "text": [
      "[[1 2]\n",
      " [3 4]]\n"
     ]
    }
   ],
   "source": [
    "#reshape\n",
    "#new_ar=numpy.reshape(array,new_shape)\n",
    "import numpy as np\n",
    "ar=np.array([1,2,3,4])\n",
    "ar1=np.reshape(ar,(2,2))\n",
    "print(ar1)"
   ]
  },
  {
   "cell_type": "code",
   "execution_count": 6,
   "metadata": {},
   "outputs": [
    {
     "name": "stdout",
     "output_type": "stream",
     "text": [
      "1\n",
      "2\n",
      "4\n",
      "3\n",
      "4\n",
      "5\n"
     ]
    }
   ],
   "source": [
    "#flat\n",
    "ar=np.array(\n",
    "    [\n",
    "        [1,2,4],\n",
    "        [3,4,5]\n",
    "    ]\n",
    ")\n",
    "flat_obj=ar.flat\n",
    "for i in flat_obj:\n",
    "    print(i)"
   ]
  },
  {
   "cell_type": "code",
   "execution_count": 7,
   "metadata": {},
   "outputs": [
    {
     "name": "stdout",
     "output_type": "stream",
     "text": [
      "[1 2 4 3 4 5]\n"
     ]
    }
   ],
   "source": [
    "#new_ar=original_ar.flatten()\n",
    "ar=np.array(\n",
    "    [\n",
    "        [1,2,4],\n",
    "        [3,4,5]\n",
    "    ]\n",
    ")\n",
    "new_ar=ar.flatten()\n",
    "print(new_ar)"
   ]
  },
  {
   "cell_type": "code",
   "execution_count": 8,
   "metadata": {},
   "outputs": [
    {
     "name": "stdout",
     "output_type": "stream",
     "text": [
      "[1 2 3 2 3 4]\n"
     ]
    }
   ],
   "source": [
    "#mew_ar=original_ar.ravel()\n",
    "ar=np.array([\n",
    "    [1,2,3],\n",
    "    [2,3,4]\n",
    "])\n",
    "new_ar=ar.ravel()\n",
    "print(new_ar)"
   ]
  },
  {
   "cell_type": "code",
   "execution_count": 10,
   "metadata": {},
   "outputs": [
    {
     "name": "stdout",
     "output_type": "stream",
     "text": [
      "[1 2 3 4 5 6]\n"
     ]
    }
   ],
   "source": [
    "#concatenate\n",
    "#np.concatenate((a,b),axis=0)\n",
    "a=np.array([1,2,3])\n",
    "b=np.array([4,5,6])\n",
    "new_ar=np.concatenate((a,b),axis=0)\n",
    "print(new_ar)"
   ]
  },
  {
   "cell_type": "code",
   "execution_count": 12,
   "metadata": {},
   "outputs": [
    {
     "name": "stdout",
     "output_type": "stream",
     "text": [
      "[[1 5]\n",
      " [2 6]\n",
      " [3 7]\n",
      " [4 8]]\n"
     ]
    }
   ],
   "source": [
    "#transpose\n",
    "a=np.array([[1,2,3,4],[5,6,7,8]])\n",
    "ar=np.transpose(a)\n",
    "print(ar)"
   ]
  },
  {
   "cell_type": "code",
   "execution_count": 19,
   "metadata": {},
   "outputs": [
    {
     "name": "stdout",
     "output_type": "stream",
     "text": [
      "[array([1]), array([2]), array([3]), array([4])]\n"
     ]
    }
   ],
   "source": [
    "#split:sub_array split(array_name,number of sub_array)\n",
    "a=np.array([1,2,3,4])\n",
    "sub_ar=np.split(a,4)\n",
    "print(sub_ar)"
   ]
  },
  {
   "cell_type": "code",
   "execution_count": 27,
   "metadata": {},
   "outputs": [
    {
     "name": "stdout",
     "output_type": "stream",
     "text": [
      "[1 2 3 1]\n"
     ]
    }
   ],
   "source": [
    "#resize\n",
    "#new_ar=np.resize(array,desired_shape)\n",
    "a1=np.array([1,2,3])\n",
    "a2=np.resize(a1,4)\n",
    "print(a2)"
   ]
  },
  {
   "cell_type": "code",
   "execution_count": 29,
   "metadata": {},
   "outputs": [
    {
     "name": "stdout",
     "output_type": "stream",
     "text": [
      "[1 2 3 4]\n"
     ]
    }
   ],
   "source": [
    "#append\n",
    "a1=np.array([1,2,3])\n",
    "a2=np.append(a1,4)\n",
    "print(a2)"
   ]
  },
  {
   "cell_type": "code",
   "execution_count": 32,
   "metadata": {},
   "outputs": [
    {
     "name": "stdout",
     "output_type": "stream",
     "text": [
      "[1 2 3 4]\n"
     ]
    }
   ],
   "source": [
    "#insert\n",
    "a1=np.array([1,2,3])\n",
    "a2=np.insert(a1,3,4)\n",
    "print(a2)\n"
   ]
  },
  {
   "cell_type": "code",
   "execution_count": 37,
   "metadata": {},
   "outputs": [
    {
     "name": "stdout",
     "output_type": "stream",
     "text": [
      "[2 3]\n"
     ]
    }
   ],
   "source": [
    "#delete\n",
    "a1=np.array([1,2,3])\n",
    "a2=np.delete(a1,0)\n",
    "print(a2)"
   ]
  },
  {
   "cell_type": "code",
   "execution_count": 38,
   "metadata": {},
   "outputs": [
    {
     "name": "stdout",
     "output_type": "stream",
     "text": [
      "(array([1, 2, 3]), array([0, 1, 2], dtype=int64))\n"
     ]
    }
   ],
   "source": [
    "#unique\n",
    "a1=np.array([1,2,3])\n",
    "a2=np.unique(a1,4)\n",
    "print(a2)"
   ]
  }
 ],
 "metadata": {
  "kernelspec": {
   "display_name": "Python 3",
   "language": "python",
   "name": "python3"
  },
  "language_info": {
   "codemirror_mode": {
    "name": "ipython",
    "version": 3
   },
   "file_extension": ".py",
   "mimetype": "text/x-python",
   "name": "python",
   "nbconvert_exporter": "python",
   "pygments_lexer": "ipython3",
   "version": "3.11.3"
  }
 },
 "nbformat": 4,
 "nbformat_minor": 2
}
