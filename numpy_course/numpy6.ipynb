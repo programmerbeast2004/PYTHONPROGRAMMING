{
 "cells": [
  {
   "cell_type": "code",
   "execution_count": 3,
   "metadata": {},
   "outputs": [
    {
     "name": "stdout",
     "output_type": "stream",
     "text": [
      "['learncodeguy' 'numpycodeguy' 'withcodeguy']\n"
     ]
    }
   ],
   "source": [
    "#string functioins\n",
    "#add()\n",
    "import numpy as np\n",
    "ar=np.array(['learn','numpy','with'])\n",
    "new_ar=np.char.add(ar,'codeguy')\n",
    "print(new_ar)"
   ]
  },
  {
   "cell_type": "code",
   "execution_count": 4,
   "metadata": {},
   "outputs": [
    {
     "name": "stdout",
     "output_type": "stream",
     "text": [
      "['Learn' 'Numpy' 'With']\n"
     ]
    }
   ],
   "source": [
    "#title()\n",
    "ar=np.array(['learn','numpy','with'])\n",
    "new_ar=np.char.title(ar)\n",
    "print(new_ar)"
   ]
  },
  {
   "cell_type": "code",
   "execution_count": 6,
   "metadata": {},
   "outputs": [
    {
     "name": "stdout",
     "output_type": "stream",
     "text": [
      "['learn' 'numpy' 'with']\n"
     ]
    }
   ],
   "source": [
    "#lower()\n",
    "ar=np.array(['Learn','Numpy','With'])\n",
    "new_ar=np.char.lower(ar)\n",
    "print(new_ar)"
   ]
  },
  {
   "cell_type": "code",
   "execution_count": 7,
   "metadata": {},
   "outputs": [
    {
     "name": "stdout",
     "output_type": "stream",
     "text": [
      "['LEARN' 'NUMPY' 'WITH']\n"
     ]
    }
   ],
   "source": [
    "#upper()\n",
    "ar=np.array(['Learn','Numpy','With'])\n",
    "new_ar=np.char.upper(ar)\n",
    "print(new_ar)"
   ]
  },
  {
   "cell_type": "code",
   "execution_count": 8,
   "metadata": {},
   "outputs": [
    {
     "name": "stdout",
     "output_type": "stream",
     "text": [
      "['Learn' 'Numpy' 'With']\n"
     ]
    }
   ],
   "source": [
    "#strip\n",
    "ar=np.array([' Learn',' Numpy',' With'])\n",
    "new_ar=np.char.strip(ar)\n",
    "print(new_ar)"
   ]
  },
  {
   "cell_type": "code",
   "execution_count": 10,
   "metadata": {},
   "outputs": [
    {
     "name": "stdout",
     "output_type": "stream",
     "text": [
      "[list(['L', 'arn']) list(['Numpy']) list(['With'])]\n"
     ]
    }
   ],
   "source": [
    "#split\n",
    "ar=np.array(['Learn','Numpy','With'])\n",
    "new_ar=np.char.split(ar,'e')\n",
    "print(new_ar)"
   ]
  },
  {
   "cell_type": "code",
   "execution_count": 13,
   "metadata": {},
   "outputs": [
    {
     "name": "stdout",
     "output_type": "stream",
     "text": [
      "['L-e-a-r-n' 'N-u-m-p-y' 'W-i-t-h']\n"
     ]
    }
   ],
   "source": [
    "#join\n",
    "ar=np.array(['Learn','Numpy','With'])\n",
    "new_ar=np.char.join('-',ar)\n",
    "print(new_ar)"
   ]
  },
  {
   "cell_type": "code",
   "execution_count": 17,
   "metadata": {},
   "outputs": [
    {
     "name": "stdout",
     "output_type": "stream",
     "text": [
      "['Leyrn' 'Numpy' 'With']\n"
     ]
    }
   ],
   "source": [
    "#replace\n",
    "#numpy.char.replace(arr,ol,new,count=None)\n",
    "ar=np.array(['Learn','Numpy','With'])\n",
    "new_ar=np.char.replace(ar,'a','y',count=1)\n",
    "print(new_ar)"
   ]
  },
  {
   "cell_type": "code",
   "execution_count": 20,
   "metadata": {},
   "outputs": [
    {
     "name": "stdout",
     "output_type": "stream",
     "text": [
      "[0.         0.01745329 0.03490659 0.05235988]\n",
      "[0.         0.01745241 0.0348995  0.05233596]\n",
      "[1.         0.9998477  0.99939083 0.99862953]\n",
      "[0.         0.01745506 0.03492077 0.05240778]\n",
      "[0.         0.01745418 0.03491368 0.05238383]\n",
      "[1.57079633 1.55334215 1.53588265 1.5184125 ]\n",
      "[0.         0.01745152 0.03489242 0.05231211]\n"
     ]
    }
   ],
   "source": [
    "#mathematical function\n",
    "angles=np.array([0,1,2,3])\n",
    "radian=np.radians(angles)\n",
    "print(radian)\n",
    "print(np.sin(radian))\n",
    "print(np.cos(radian))\n",
    "print(np.tan(radian))\n",
    "print(np.arcsin(radian))\n",
    "print(np.arccos(radian))\n",
    "print(np.arctan(radian))"
   ]
  },
  {
   "cell_type": "code",
   "execution_count": 33,
   "metadata": {},
   "outputs": [
    {
     "name": "stdout",
     "output_type": "stream",
     "text": [
      "[ 2.71828183  7.3890561  20.08553692]\n",
      "[1.         1.41421356 1.73205081]\n",
      "[1 4 9]\n",
      "[1 2 3]\n",
      "[0.         0.69314718 1.09861229]\n",
      "[0.         0.30103    0.47712125]\n",
      "[1 2 3]\n",
      "[ 57.29577951 114.59155903 171.88733854]\n"
     ]
    }
   ],
   "source": [
    "ar=np.array([1,2,3])\n",
    "print(np.exp(ar))\n",
    "print(np.sqrt(ar))\n",
    "print(np.power(ar,2))\n",
    "print(np.absolute(ar))\n",
    "print(np.log(ar))\n",
    "print(np.log10(ar))\n",
    "print(np.around(ar))\n",
    "print(np.degrees(ar))\n"
   ]
  }
 ],
 "metadata": {
  "kernelspec": {
   "display_name": "Python 3",
   "language": "python",
   "name": "python3"
  },
  "language_info": {
   "codemirror_mode": {
    "name": "ipython",
    "version": 3
   },
   "file_extension": ".py",
   "mimetype": "text/x-python",
   "name": "python",
   "nbconvert_exporter": "python",
   "pygments_lexer": "ipython3",
   "version": "3.11.3"
  }
 },
 "nbformat": 4,
 "nbformat_minor": 2
}
